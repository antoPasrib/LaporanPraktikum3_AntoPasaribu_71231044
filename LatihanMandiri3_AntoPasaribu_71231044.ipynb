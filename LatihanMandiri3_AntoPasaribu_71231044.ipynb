{
 "cells": [
  {
   "cell_type": "code",
   "execution_count": null,
   "id": "67c8d6f7",
   "metadata": {},
   "outputs": [],
   "source": [
    "BEGIN\n",
    "INPUT n\n",
    "IF n <= 1 THEN\n",
    "   OUTPUT \"bukan bilangan prima\"\n",
    "   STOP\n",
    "ENDIF\n",
    "FOR I FROM 2 TO √n DO\n",
    "   IF n MOD i == 0 THEN\n",
    "      OUTPUT \"bukan bilangan prima\"\n",
    "      STOP\n",
    "   ENDIF \n",
    "ENDFOR \n",
    "OUTPUT \"bilangan prima\"\n",
    "END"
   ]
  },
  {
   "cell_type": "code",
   "execution_count": null,
   "id": "eb31d00b",
   "metadata": {},
   "outputs": [],
   "source": [
    "BEGIN \n",
    "INPUT a, b, c\n",
    "CALCULATE D = b ^ 2 - 4ac\n",
    "IF D >= 0 THEN \n",
    "   OUTPUT \"Akar Real/Nyata\"\n",
    "   IF D > 0 THEN \n",
    "      OUTPUT \"Akar Real dan Berlainan\"\n",
    "   ELSE \n",
    "      OUTPUT \"Akar Real dan Kembar\"\n",
    "   ENDIF\n",
    "ELSE\n",
    "   OUTPUT \"Akar Imajiner/Tidak Real/Khayal\"\n",
    "ENDIF\n",
    "OUTPUT \"Selesai\"\n",
    "END"
   ]
  },
  {
   "cell_type": "code",
   "execution_count": null,
   "id": "13778f24",
   "metadata": {},
   "outputs": [],
   "source": [
    "BEGIN \n",
    "INPUT n\n",
    "IF n < 0 THEN\n",
    "   OUTPUT \"Tidak terdefenisi\"\n",
    "   STOP\n",
    "ENDIF\n",
    "SET faktorial = 1\n",
    "FOR i FROM 1 TO n DO \n",
    "   faktorial = faktorial * i\n",
    "ENDFOR\n",
    "OUTPUT \"Faktorial dari\", n, \"adalah\", faktorial\n",
    "END"
   ]
  }
 ],
 "metadata": {
  "kernelspec": {
   "display_name": "Python 3 (ipykernel)",
   "language": "python",
   "name": "python3"
  },
  "language_info": {
   "codemirror_mode": {
    "name": "ipython",
    "version": 3
   },
   "file_extension": ".py",
   "mimetype": "text/x-python",
   "name": "python",
   "nbconvert_exporter": "python",
   "pygments_lexer": "ipython3",
   "version": "3.11.5"
  }
 },
 "nbformat": 4,
 "nbformat_minor": 5
}
